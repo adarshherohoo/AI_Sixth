{
  "nbformat": 4,
  "nbformat_minor": 0,
  "metadata": {
    "colab": {
      "provenance": [],
      "authorship_tag": "ABX9TyP7K82p+Ta0Fh6rdhLpcuNG",
      "include_colab_link": true
    },
    "kernelspec": {
      "name": "python3",
      "display_name": "Python 3"
    },
    "language_info": {
      "name": "python"
    }
  },
  "cells": [
    {
      "cell_type": "markdown",
      "metadata": {
        "id": "view-in-github",
        "colab_type": "text"
      },
      "source": [
        "<a href=\"https://colab.research.google.com/github/adarshherohoo/AI_Sixth/blob/main/AI_practical.ipynb\" target=\"_parent\"><img src=\"https://colab.research.google.com/assets/colab-badge.svg\" alt=\"Open In Colab\"/></a>"
      ]
    },
    {
      "cell_type": "markdown",
      "source": [],
      "metadata": {
        "id": "FUPmayKFH-ql"
      }
    },
    {
      "cell_type": "markdown",
      "source": [
        "## 🧠 Linear Regression Example using scikit-learn\n",
        "\n",
        "This example demonstrates a simple **Linear Regression** model using `scikit-learn`. It predicts house prices based on the area (in square feet).\n",
        "\n",
        "### 📌 Problem:\n",
        "We have data of house prices based on area, and we want to predict the price for a new house of 1800 sq ft.\n",
        "\n",
        "### 🧮 Code:\n"
      ],
      "metadata": {
        "id": "cuRp9eYQIAVQ"
      }
    },
    {
      "cell_type": "code",
      "source": [
        "from sklearn.linear_model import LinearRegression\n",
        "\n",
        "# Example Data: area vs price\n",
        "area = [[1000], [1500], [2000], [2500], [3000]]  # Input: Area in sq ft\n",
        "price = [100000, 150000, 200000, 250000, 300000]  # Output: Price in $\n",
        "\n",
        "# Create model and train\n",
        "model = LinearRegression()\n",
        "model.fit(area, price)\n",
        "\n",
        "# Predict price for new area\n",
        "new_area = [[1800]]\n",
        "predicted_price = model.predict(new_area)\n",
        "\n",
        "print(f\"Predicted price for {new_area[0][0]} sq ft = ${predicted_price[0]:.2f}\")\n"
      ],
      "metadata": {
        "colab": {
          "base_uri": "https://localhost:8080/"
        },
        "id": "7VFNI1kNIhg9",
        "outputId": "040f0865-6266-4c8e-c409-13f828c4f77d"
      },
      "execution_count": 1,
      "outputs": [
        {
          "output_type": "stream",
          "name": "stdout",
          "text": [
            "Predicted price for 1800 sq ft = $180000.00\n"
          ]
        }
      ]
    },
    {
      "cell_type": "markdown",
      "source": [
        "## 🧠 Rule-Based Disease Diagnosis System\n",
        "\n",
        "This simple AI program diagnoses a disease based on symptoms provided by the user using a **rule-based approach** (no machine learning).\n",
        "\n",
        "### 📋 How it Works:\n",
        "\n",
        "- We define a list of diseases and the symptoms required for each.\n",
        "- The system checks if **all required symptoms** for a disease are present in the patient’s input.\n",
        "- If there's a full match, it returns the name of the disease.\n",
        "- If no match is found, it says **\"No matching disease found.\"**\n",
        "\n",
        "### 🧪 Example:\n",
        "\n",
        "We provide the patient’s symptoms like:\n",
        "\n",
        "```python\n",
        "patient_symptoms = [\"fever\", \"cough\", \"fatigue\"]\n"
      ],
      "metadata": {
        "id": "DwQIKcftMnCS"
      }
    },
    {
      "cell_type": "code",
      "source": [
        "# 🧠 Rule-Based Diagnosis System\n",
        "\n",
        "# List of symptoms our system can recognize (optional, just for reference)\n",
        "symptom_list = [\"fever\", \"cough\", \"fatigue\", \"headache\"]\n",
        "\n",
        "# Dictionary of disease rules\n",
        "# Each disease maps to a list of symptoms that must all be present to diagnose it\n",
        "disease_rules = {\n",
        "    \"Common Cold\": [\"cough\", \"fatigue\"],\n",
        "    \"Flu\": [\"fever\", \"cough\", \"fatigue\", \"headache\"],\n",
        "    \"Migraine\": [\"headache\"],\n",
        "\n",
        "}\n",
        "\n",
        "# 💡 Function to diagnose the disease based on input symptoms\n",
        "def diagnose(symptoms):\n",
        "    # Go through each disease and its required symptoms\n",
        "    for disease, rules in disease_rules.items():\n",
        "        match_count = 0  # Counter for matched symptoms\n",
        "\n",
        "        # Check each required symptom for the current disease\n",
        "        for rule_symptom in rules:\n",
        "            if rule_symptom in symptoms:\n",
        "                match_count += 1  # Increase count if symptom matches\n",
        "\n",
        "        # If all symptoms required for the disease are present, return diagnosis\n",
        "        if match_count == len(rules):\n",
        "            return f\"Diagnosis: {disease}\"\n",
        "\n",
        "    # If no disease fully matches the symptoms\n",
        "    return \"No matching disease found.\"\n",
        "\n",
        "# 🧪 Test the function with a sample patient's symptoms\n",
        "patient_symptoms = [\"fatigue\", \"cough\",'']\n",
        "print(diagnose(patient_symptoms))\n"
      ],
      "metadata": {
        "colab": {
          "base_uri": "https://localhost:8080/"
        },
        "id": "JoHwimQ-Mon4",
        "outputId": "2a70a04a-e400-4f13-b6c4-b55386e3d2af"
      },
      "execution_count": 7,
      "outputs": [
        {
          "output_type": "stream",
          "name": "stdout",
          "text": [
            "Diagnosis: Common Cold\n"
          ]
        }
      ]
    },
    {
      "cell_type": "markdown",
      "source": [],
      "metadata": {
        "id": "JGaraCW9JJev"
      }
    },
    {
      "cell_type": "markdown",
      "source": [],
      "metadata": {
        "id": "3E8XQZKtJLR9"
      }
    }
  ]
}